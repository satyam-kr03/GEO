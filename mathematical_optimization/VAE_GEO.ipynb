{
 "cells": [
  {
   "cell_type": "markdown",
   "id": "198ffdb2",
   "metadata": {
    "id": "198ffdb2"
   },
   "source": [
    "## Optimizing a mathematical function using the GEO algorithm leveraging a VAE generative model"
   ]
  },
  {
   "cell_type": "code",
   "execution_count": 92,
   "id": "4890c4cd",
   "metadata": {
    "id": "4890c4cd"
   },
   "outputs": [],
   "source": [
    "import torch\n",
    "import torch.nn as nn\n",
    "import torch.optim as optim\n",
    "from torch.distributions.multivariate_normal import MultivariateNormal\n",
    "import torch.nn.functional as F\n",
    "import random\n",
    "import numpy as np\n",
    "import pandas as pd\n",
    "\n",
    "device = \"cuda\" if torch.cuda.is_available() else 'cpu'"
   ]
  },
  {
   "cell_type": "markdown",
   "id": "3d283192",
   "metadata": {
    "id": "3d283192"
   },
   "source": [
    "### Cost Function"
   ]
  },
  {
   "cell_type": "markdown",
   "id": "d90e44f1",
   "metadata": {
    "id": "d90e44f1"
   },
   "source": [
    "We will optimize a mathematical function f(x) = $\\sqrt{x_1^4 + x_2^4 + x_3^4 + \\dots + x_{10}^4}$\n"
   ]
  },
  {
   "cell_type": "code",
   "execution_count": 93,
   "id": "9a0b365b",
   "metadata": {
    "id": "9a0b365b"
   },
   "outputs": [],
   "source": [
    "def objective(x):\n",
    "    return torch.sqrt(torch.pow(x,4).sum(dim=1)).to(device)"
   ]
  },
  {
   "cell_type": "markdown",
   "id": "6bcdd414",
   "metadata": {
    "id": "6bcdd414"
   },
   "source": [
    "### Initial Seed Dataset: generated randomly "
   ]
  },
  {
   "cell_type": "code",
   "execution_count": null,
   "id": "79ee3746",
   "metadata": {
    "id": "79ee3746"
   },
   "outputs": [],
   "source": [
    "initial_seed = torch.rand(1000,10) * 2 - 1\n",
    "initial_seed = initial_seed.to(device)"
   ]
  },
  {
   "cell_type": "markdown",
   "id": "cf48c6e8",
   "metadata": {
    "id": "cf48c6e8"
   },
   "source": [
    "### Obtaining a MultiVariate distribution from the seed dataset"
   ]
  },
  {
   "cell_type": "code",
   "execution_count": 95,
   "id": "44cfefa9",
   "metadata": {
    "id": "44cfefa9"
   },
   "outputs": [],
   "source": [
    "def multiDistribution(data_seed):\n",
    "  mean = torch.mean(data_seed, axis=0)\n",
    "  covariance = torch.cov(torch.permute(data_seed, (1, 0)))\n",
    "  distribution = MultivariateNormal(loc=mean, covariance_matrix=covariance)\n",
    "  return distribution"
   ]
  },
  {
   "cell_type": "markdown",
   "id": "849d0c09",
   "metadata": {
    "id": "849d0c09"
   },
   "source": [
    "### Defining the VAE generative model"
   ]
  },
  {
   "cell_type": "code",
   "execution_count": 96,
   "id": "006c0c63",
   "metadata": {
    "id": "006c0c63"
   },
   "outputs": [],
   "source": [
    "import torch\n",
    "import torch.nn as nn\n",
    "import torch.nn.functional as F\n",
    "\n",
    "class VAE(nn.Module):\n",
    "    def __init__(self, input_dim, hidden_dim, latent_dim):\n",
    "        super(VAE, self).__init__()\n",
    "\n",
    "        # Encoder\n",
    "        self.fc1 = nn.Linear(input_dim, hidden_dim)\n",
    "        self.fc21 = nn.Linear(hidden_dim, latent_dim)  \n",
    "        self.fc22 = nn.Linear(hidden_dim, latent_dim) \n",
    "\n",
    "        # Decoder\n",
    "        self.fc3 = nn.Linear(latent_dim, hidden_dim)\n",
    "        self.fc4 = nn.Linear(hidden_dim, input_dim)\n",
    "\n",
    "    def encode(self, x):\n",
    "        h1 = F.relu(self.fc1(x))\n",
    "        return self.fc21(h1), self.fc22(h1)  \n",
    "\n",
    "    def reparameterize(self, mu, logvar):\n",
    "        std = torch.exp(0.5*logvar)  \n",
    "        eps = torch.randn_like(std)  \n",
    "        return mu + eps * std  # Reparameterization trick\n",
    "\n",
    "    def decode(self, z):\n",
    "        h3 = F.relu(self.fc3(z))\n",
    "        return torch.sigmoid(self.fc4(h3))  # Sigmoid to get reconstructed output between [0, 1]\n",
    "\n",
    "    def forward(self, x):\n",
    "        mu, logvar = self.encode(x)\n",
    "        z = self.reparameterize(mu, logvar)\n",
    "        return self.decode(z), mu, logvar  \n",
    "\n",
    "def vae_loss(recon_x, x, mu, logvar):\n",
    "    x = torch.clamp(x, 0.0, 1.0)  # This clips the values to be within [0, 1]\n",
    "\n",
    "    # Binary Cross Entropy loss for reconstruction\n",
    "    BCE = F.binary_cross_entropy(recon_x, x, reduction='sum')  # Sum over the batch\n",
    "    # KL Divergence loss between the learned distribution and standard normal distribution\n",
    "    KL_div = -0.5 * torch.sum(1 + logvar - mu.pow(2) - logvar.exp())\n",
    "\n",
    "    return BCE + KL_div\n"
   ]
  },
  {
   "cell_type": "markdown",
   "id": "a457e610",
   "metadata": {},
   "source": [
    "#### Defining a utility function for generating random noise"
   ]
  },
  {
   "cell_type": "code",
   "execution_count": 97,
   "id": "90b67908",
   "metadata": {
    "id": "90b67908"
   },
   "outputs": [],
   "source": [
    "def generate_random_noise(batch_size, sample_dim):\n",
    "    return torch.randn(batch_size, sample_dim).to(device)"
   ]
  },
  {
   "cell_type": "markdown",
   "id": "fa00835d",
   "metadata": {},
   "source": [
    "### Defining parameters, optimizer and loss function for the training"
   ]
  },
  {
   "cell_type": "code",
   "execution_count": 98,
   "id": "cbbcf810",
   "metadata": {
    "id": "cbbcf810"
   },
   "outputs": [],
   "source": [
    "sample_dim = 10\n",
    "latent_dim = 10\n",
    "hidden_dim = 4\n",
    "batch_size = 64\n",
    "num_epochs = 500\n",
    "learning_rate = 0.0002\n",
    "\n",
    "vae = VAE(sample_dim, hidden_dim, latent_dim).to(device)\n",
    "vae_optimizer = optim.Adam(vae.parameters(), lr=learning_rate)\n",
    "criterion = nn.BCELoss()"
   ]
  },
  {
   "cell_type": "markdown",
   "id": "90aceb43",
   "metadata": {
    "id": "90aceb43"
   },
   "source": [
    "### Applying the GEO algorithm to train our VAE"
   ]
  },
  {
   "cell_type": "code",
   "execution_count": 99,
   "id": "3c853c41",
   "metadata": {
    "colab": {
     "base_uri": "https://localhost:8080/"
    },
    "id": "3c853c41",
    "outputId": "5b3d9e4c-5504-4ae4-83ed-5548965b6040"
   },
   "outputs": [
    {
     "name": "stderr",
     "output_type": "stream",
     "text": [
      "331.49 :: 0.17 :: 0.0 :: 0.16368983685970306: 100%|██████████| 500/500 [00:18<00:00, 27.29it/s] \n"
     ]
    }
   ],
   "source": [
    "from tqdm import tqdm\n",
    "\n",
    "pbar = tqdm(range(num_epochs))\n",
    "new_samples = np.array([])\n",
    "initial_seed_obj = objective(initial_seed)\n",
    "ground_val = initial_seed_obj.min().item()\n",
    "distri = multiDistribution(initial_seed)\n",
    "costs = []\n",
    "means = []\n",
    "stds = []\n",
    "\n",
    "for epoch in pbar:\n",
    "    if epoch > 0:\n",
    "        # Sort generated samples by objective function values\n",
    "        generated_samples = vae.decode(torch.randn(100, latent_dim).to(device)).detach()\n",
    "        objective_values = objective(generated_samples)\n",
    "        \n",
    "        # Select top 25% of samples with highest objective values\n",
    "        top_indices = torch.topk(objective_values, k=50).indices\n",
    "        top_samples = generated_samples[top_indices]\n",
    "        \n",
    "        # Update initial seed with top samples and some randomness\n",
    "        initial_seed = top_samples\n",
    "        initial_seed = torch.cat([\n",
    "            initial_seed, \n",
    "            # torch.rand(750, 5, device=device) * 2 - 1  # Add some randomness\n",
    "        ])\n",
    "        \n",
    "        # Recompute the objective and update the ground_val\n",
    "        initial_seed_obj = objective(initial_seed)  # Recompute objective with new seed\n",
    "        ground_val = initial_seed_obj.min().item()  # Update ground_val\n",
    "        # print(ground_val)\n",
    "\n",
    "    mean, std = torch.mean(initial_seed_obj), torch.std(initial_seed_obj)\n",
    "\n",
    "    for batch_idx in range(1000 // batch_size):\n",
    "        \n",
    "        # Sample real data\n",
    "        real_samples = distri.sample(sample_shape=[batch_size*10]).to(device).float()\n",
    "        real_samples = real_samples[:batch_size, :]\n",
    "\n",
    "        # Reset gradients\n",
    "        vae_optimizer.zero_grad()\n",
    "\n",
    "        # Encoding and decoding\n",
    "        recon_samples, mu, logvar = vae(real_samples)\n",
    "\n",
    "        # Compute VAE loss\n",
    "        loss = vae_loss(recon_samples, real_samples, mu, logvar)\n",
    "\n",
    "        # Backpropagate and optimize VAE\n",
    "        loss.backward()\n",
    "        vae_optimizer.step()\n",
    "\n",
    "    # Generate new samples using VAE decoder\n",
    "    new_samples = vae.decode(torch.randn(100, latent_dim).to(device)).detach()\n",
    "\n",
    "    pbar.set_description(f\"{round(loss.item(), 2)} :: {round(mean.item(), 2)} :: {round(std.item(), 2)} :: {ground_val}\")\n",
    "    \n",
    "    costs.append(ground_val)\n",
    "    means.append(mean.item())\n",
    "    stds.append(std.item())\n"
   ]
  },
  {
   "cell_type": "code",
   "execution_count": 106,
   "id": "50ded7a1",
   "metadata": {
    "id": "50ded7a1"
   },
   "outputs": [
    {
     "data": {
      "image/png": "[encoded data removed]",
      "text/plain": [
       "<Figure size 1000x600 with 1 Axes>"
      ]
     },
     "metadata": {},
     "output_type": "display_data"
    }
   ],
   "source": [
    "import matplotlib.pyplot as plt\n",
    "\n",
    "epochs = list(range(1, num_epochs + 1)) \n",
    "cost_values = costs \n",
    "\n",
    "plt.figure(figsize=(10, 6))  \n",
    "plt.plot(epochs, cost_values, label='Cost', color='green', marker='o', linestyle='-', markersize=5)\n",
    "\n",
    "plt.xlabel('Epochs')\n",
    "plt.ylabel('Cost Value')\n",
    "plt.title('Cost Value vs Epochs')\n",
    "\n",
    "plt.grid(True)\n",
    "plt.legend()\n",
    "plt.show(block=True)\n"
   ]
  }
 ],
 "metadata": {
  "colab": {
   "provenance": []
  },
  "kernelspec": {
   "display_name": "Python 3",
   "name": "python3"
  },
  "language_info": {
   "codemirror_mode": {
    "name": "ipython",
    "version": 3
   },
   "file_extension": ".py",
   "mimetype": "text/x-python",
   "name": "python",
   "nbconvert_exporter": "python",
   "pygments_lexer": "ipython3",
   "version": "3.11.7"
  },
  "papermill": {
   "default_parameters": {},
   "duration": 56.660733,
   "end_time": "2023-08-14T05:54:49.917959",
   "environment_variables": {},
   "exception": null,
   "input_path": "__notebook__.ipynb",
   "output_path": "__notebook__.ipynb",
   "parameters": {},
   "start_time": "2023-08-14T05:53:53.257226",
   "version": "2.4.0"
  }
 },
 "nbformat": 4,
 "nbformat_minor": 5
}
